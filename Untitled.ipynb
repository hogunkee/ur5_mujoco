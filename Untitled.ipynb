{
 "cells": [
  {
   "cell_type": "code",
   "execution_count": 1,
   "metadata": {},
   "outputs": [],
   "source": [
    "from ur5_env import *"
   ]
  },
  {
   "cell_type": "code",
   "execution_count": 3,
   "metadata": {},
   "outputs": [],
   "source": [
    "import glfw"
   ]
  },
  {
   "cell_type": "code",
   "execution_count": 9,
   "metadata": {},
   "outputs": [],
   "source": [
    "glfw.destroy_window(env.env.viewer.window)"
   ]
  },
  {
   "cell_type": "code",
   "execution_count": 10,
   "metadata": {},
   "outputs": [
    {
     "name": "stdout",
     "output_type": "stream",
     "text": [
      "Creating window glfw\n",
      "left_finger_joint : 0.000, right_finger_joint : 0.000, \n"
     ]
    }
   ],
   "source": [
    "env = UR5Env()\n",
    "env = discrete_env(env, mov_dist=0.03)"
   ]
  },
  {
   "cell_type": "code",
   "execution_count": 8,
   "metadata": {},
   "outputs": [],
   "source": [
    "env.env.viewer.sim.reset()"
   ]
  },
  {
   "cell_type": "code",
   "execution_count": 13,
   "metadata": {},
   "outputs": [],
   "source": [
    "env.env.viewer = None"
   ]
  },
  {
   "cell_type": "code",
   "execution_count": 9,
   "metadata": {},
   "outputs": [
    {
     "data": {
      "text/plain": [
       "['__class__',\n",
       " '__delattr__',\n",
       " '__dict__',\n",
       " '__dir__',\n",
       " '__doc__',\n",
       " '__eq__',\n",
       " '__format__',\n",
       " '__ge__',\n",
       " '__getattribute__',\n",
       " '__gt__',\n",
       " '__hash__',\n",
       " '__init__',\n",
       " '__init_subclass__',\n",
       " '__le__',\n",
       " '__lt__',\n",
       " '__module__',\n",
       " '__ne__',\n",
       " '__new__',\n",
       " '__reduce__',\n",
       " '__reduce_ex__',\n",
       " '__repr__',\n",
       " '__setattr__',\n",
       " '__setstate__',\n",
       " '__sizeof__',\n",
       " '__str__',\n",
       " '__subclasshook__',\n",
       " '__weakref__',\n",
       " '_add_marker_to_scene',\n",
       " '_advance_by_one_step',\n",
       " '_button_left_pressed',\n",
       " '_button_right_pressed',\n",
       " '_create_full_overlay',\n",
       " '_cursor_pos_callback',\n",
       " '_gui_lock',\n",
       " '_hide_overlay',\n",
       " '_image_idx',\n",
       " '_image_path',\n",
       " '_init_camera',\n",
       " '_last_mouse_x',\n",
       " '_last_mouse_y',\n",
       " '_loop_count',\n",
       " '_markers',\n",
       " '_mouse_button_callback',\n",
       " '_ncam',\n",
       " '_overlay',\n",
       " '_paused',\n",
       " '_read_pixels_as_in_window',\n",
       " '_record_video',\n",
       " '_render_every_frame',\n",
       " '_run_speed',\n",
       " '_scale',\n",
       " '_scroll_callback',\n",
       " '_set_mujoco_buffers',\n",
       " '_setup_opengl_context',\n",
       " '_show_mocap',\n",
       " '_time_per_render',\n",
       " '_transparent',\n",
       " '_user_overlay',\n",
       " '_video_idx',\n",
       " '_video_path',\n",
       " '_video_queue',\n",
       " '_visible',\n",
       " 'add_marker',\n",
       " 'add_overlay',\n",
       " 'cam',\n",
       " 'con',\n",
       " 'draw_pixels',\n",
       " 'key_callback',\n",
       " 'move_camera',\n",
       " 'offscreen',\n",
       " 'opengl_context',\n",
       " 'pert',\n",
       " 'read_pixels',\n",
       " 'read_pixels_depth',\n",
       " 'render',\n",
       " 'render_swap_callback',\n",
       " 'scn',\n",
       " 'sim',\n",
       " 'update_offscreen_size',\n",
       " 'update_sim',\n",
       " 'upload_texture',\n",
       " 'vopt',\n",
       " 'window']"
      ]
     },
     "execution_count": 9,
     "metadata": {},
     "output_type": "execute_result"
    }
   ],
   "source": [
    "dir(env.env.viewer)"
   ]
  },
  {
   "cell_type": "code",
   "execution_count": 20,
   "metadata": {},
   "outputs": [
    {
     "name": "stdout",
     "output_type": "stream",
     "text": [
      "1.1400000000000001 1\n"
     ]
    },
    {
     "data": {
      "image/png": "[encoded data removed]",
      "text/plain": [
       "<Figure size 432x288 with 1 Axes>"
      ]
     },
     "metadata": {
      "needs_background": "light"
     },
     "output_type": "display_data"
    },
    {
     "name": "stdout",
     "output_type": "stream",
     "text": [
      "-0.001\n",
      "False\n"
     ]
    }
   ],
   "source": [
    "state, reward, done = env.step(4, 1)\n",
    "im_state, gh, gp = state\n",
    "print(gh, gp)\n",
    "plt.imshow(im_state)\n",
    "plt.show()\n",
    "print(reward)\n",
    "print(done)"
   ]
  },
  {
   "cell_type": "code",
   "execution_count": 63,
   "metadata": {},
   "outputs": [
    {
     "data": {
      "text/plain": [
       "1"
      ]
     },
     "execution_count": 63,
     "metadata": {},
     "output_type": "execute_result"
    }
   ],
   "source": [
    "np.random.randint(5)"
   ]
  },
  {
   "cell_type": "code",
   "execution_count": 6,
   "metadata": {},
   "outputs": [
    {
     "data": {
      "text/plain": [
       "1.2"
      ]
     },
     "execution_count": 6,
     "metadata": {},
     "output_type": "execute_result"
    }
   ],
   "source": [
    "env.pre_mocap_pos[2]"
   ]
  },
  {
   "cell_type": "code",
   "execution_count": 57,
   "metadata": {},
   "outputs": [],
   "source": [
    "_ = env.env.move_to_pos([0.3, 0.1, 1.05-0.435], grasp=1.0)"
   ]
  },
  {
   "cell_type": "code",
   "execution_count": 36,
   "metadata": {},
   "outputs": [
    {
     "data": {
      "text/plain": [
       "array([[-0.04085 ,  0.1769  ,  1.231859]])"
      ]
     },
     "execution_count": 36,
     "metadata": {},
     "output_type": "execute_result"
    }
   ],
   "source": [
    "env.env.sim.data.mocap_pos"
   ]
  },
  {
   "cell_type": "code",
   "execution_count": 40,
   "metadata": {},
   "outputs": [
    {
     "data": {
      "text/plain": [
       "True"
      ]
     },
     "execution_count": 40,
     "metadata": {},
     "output_type": "execute_result"
    }
   ],
   "source": [
    "bool(sum(env.env.sim.data.ctrl))"
   ]
  },
  {
   "cell_type": "code",
   "execution_count": 6,
   "metadata": {},
   "outputs": [
    {
     "data": {
      "text/plain": [
       "array([-8.16013923e-19,  2.00000000e-01,  8.94783910e-01])"
      ]
     },
     "execution_count": 6,
     "metadata": {},
     "output_type": "execute_result"
    }
   ],
   "source": [
    "env.env.sim.data.get_body_xpos('target_body_1')"
   ]
  },
  {
   "cell_type": "code",
   "execution_count": null,
   "metadata": {},
   "outputs": [],
   "source": []
  }
 ],
 "metadata": {
  "kernelspec": {
   "display_name": "Python 3",
   "language": "python",
   "name": "python3"
  },
  "language_info": {
   "codemirror_mode": {
    "name": "ipython",
    "version": 3
   },
   "file_extension": ".py",
   "mimetype": "text/x-python",
   "name": "python",
   "nbconvert_exporter": "python",
   "pygments_lexer": "ipython3",
   "version": "3.6.0"
  }
 },
 "nbformat": 4,
 "nbformat_minor": 2
}
